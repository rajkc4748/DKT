{
 "cells": [
  {
   "cell_type": "code",
   "execution_count": 7,
   "metadata": {},
   "outputs": [
    {
     "name": "stdout",
     "output_type": "stream",
     "text": [
      "2 4 6 8 10 12 14 16 18 Loop ends\n"
     ]
    }
   ],
   "source": [
    "def loops():\n",
    "    a=int(input(\"Enter starting number: \"))\n",
    "    b=int(input(\"Enter ending number: \"))\n",
    "    for x in range(a,b,2):\n",
    "        print(x,end=\" \")\n",
    "    print(\"Loop ends\")\n",
    "\n",
    "loops()"
   ]
  }
 ],
 "metadata": {
  "kernelspec": {
   "display_name": "Python 3",
   "language": "python",
   "name": "python3"
  },
  "language_info": {
   "codemirror_mode": {
    "name": "ipython",
    "version": 3
   },
   "file_extension": ".py",
   "mimetype": "text/x-python",
   "name": "python",
   "nbconvert_exporter": "python",
   "pygments_lexer": "ipython3",
   "version": "3.11.4"
  },
  "orig_nbformat": 4
 },
 "nbformat": 4,
 "nbformat_minor": 2
}
