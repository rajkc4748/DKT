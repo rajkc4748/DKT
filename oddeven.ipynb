{
 "cells": [
  {
   "cell_type": "code",
   "execution_count": 3,
   "metadata": {},
   "outputs": [
    {
     "name": "stdout",
     "output_type": "stream",
     "text": [
      "------EVEN NUMBERS------\n",
      "2 4 6 8 10 \n",
      "\n",
      "------ODD NUMBERS------\n",
      "1 3 5 7 9 "
     ]
    }
   ],
   "source": [
    "class Numbers:\n",
    "    def even():\n",
    "        a=int(input(\"Enter starting point: \"))\n",
    "        b=int(input(\"Enter ending point: \"))\n",
    "        for x in range(a,b+1):\n",
    "            if x%2==0:\n",
    "                print(x,end=\" \")\n",
    "    def odd():\n",
    "        x=int(input(\"Enter starting point: \"))\n",
    "        y=int(input(\"Enter ending point: \"))\n",
    "        for z in range(x,y+1):\n",
    "            if z%2==1:\n",
    "                print(z,end=\" \")\n",
    "print(\"------EVEN NUMBERS------\")\n",
    "Numbers.even()\n",
    "print(\"\\n\")\n",
    "print(\"------ODD NUMBERS------\")\n",
    "Numbers.odd()"
   ]
  }
 ],
 "metadata": {
  "kernelspec": {
   "display_name": "Python 3",
   "language": "python",
   "name": "python3"
  },
  "language_info": {
   "codemirror_mode": {
    "name": "ipython",
    "version": 3
   },
   "file_extension": ".py",
   "mimetype": "text/x-python",
   "name": "python",
   "nbconvert_exporter": "python",
   "pygments_lexer": "ipython3",
   "version": "3.11.4"
  },
  "orig_nbformat": 4
 },
 "nbformat": 4,
 "nbformat_minor": 2
}
