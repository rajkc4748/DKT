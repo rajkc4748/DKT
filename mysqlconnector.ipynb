{
 "cells": [
  {
   "cell_type": "code",
   "execution_count": null,
   "metadata": {},
   "outputs": [],
   "source": [
    "import mysql.connector\n",
    "mydb=mysql.connector.connect(\n",
    "    host=\"localhost\",\n",
    "    user= \"root\",\n",
    "    password=\"\"\n",
    ")\n",
    "mycur=mydb.cursor()\n",
    "mycur.execute(\"CREATE DATABASE msit\")\n",
    "print(\"Database created successfully\")"
   ]
  },
  {
   "cell_type": "code",
   "execution_count": null,
   "metadata": {},
   "outputs": [],
   "source": [
    "import mysql.connector\n",
    "mydb = mysql.connector.connect(\n",
    "    host=\"localhost\",\n",
    "    user= \"root\",\n",
    "    password=\"\",\n",
    "    database=\"msit\"\n",
    ")\n",
    "mycur = mydb.cursor()\n",
    "mycur.execute(\"CREATE TABLE customers(id INT AUTO_INCREMENT PRIMARY KEY, name VARCHAR (255), address VARCHAR (255))\")\n",
    "mycur.execute(\"CREATE TABLE customers_students(id INT AUTO_INCREMENT PRIMARY KEY, name VARCHAR (255), address VARCHAR (255),email VARCHAR(100), gender CHAR(10)) \")\n",
    "print(\"Table created successfully\")"
   ]
  },
  {
   "cell_type": "code",
   "execution_count": null,
   "metadata": {},
   "outputs": [],
   "source": [
    "import mysql.connector\n",
    "mydb = mysql.connector.connect(\n",
    "    host=\"localhost\",\n",
    "    user= \"root\",\n",
    "    password=\"\",\n",
    "    database=\"msit\"\n",
    ")\n",
    "mycur = mydb.cursor()\n",
    "ql=\"INSERT INTO customers(name, address) VALUES( %s,%s)\"\n",
    "val= (\"Raj\",\"Kolkata\")\n",
    "mycur.execute(ql,val)\n",
    "mydb.commit()"
   ]
  },
  {
   "cell_type": "code",
   "execution_count": null,
   "metadata": {},
   "outputs": [],
   "source": [
    "import mysql.connector\n",
    "mydb = mysql.connector.connect(\n",
    "    host=\"localhost\",\n",
    "    user= \"root\",\n",
    "    password=\"\",\n",
    "    database=\"msit\"\n",
    ")\n",
    "mycur = mydb.cursor()\n",
    "q2=\"INSERT INTO customers_students(name, address, email, gender) VALUES( %s, %s, %s, %s)\"\n",
    "val= (\"Raj\",\"Kolkata\",\"qwerty@gmail.com\",\"M\")\n",
    "val2=(\"Raghav\",\"Kolkata\",\"xcfvghyju@gmail.com\",\"M\")\n",
    "mycur.execute(q2,val2)\n",
    "mydb.commit()"
   ]
  },
  {
   "cell_type": "code",
   "execution_count": null,
   "metadata": {},
   "outputs": [],
   "source": [
    "import mysql.connector\n",
    "mydb = mysql.connector.connect(\n",
    "    host=\"localhost\",\n",
    "    user= \"root\",\n",
    "    password=\"\",\n",
    "    database=\"msit\"\n",
    ")\n",
    "mycur = mydb.cursor()\n",
    "ql=\"INSERT INTO customers(name, address) VALUES( %s,%s)\"\n",
    "x=input(\"Enter your name:\")\n",
    "y=input(\"Enter your address:\")\n",
    "val= (x,y)\n",
    "mycur.execute(q1,val)\n",
    "\n",
    "q2=\"INSERT INTO customers_students(name, address, email, gender) VALUES( %s, %s, %s, %s)\"\n",
    "a=input(\"Enter your name:\")\n",
    "b=input(\"Enter your address:\")\n",
    "c=input(\"Enter your email:\")\n",
    "d=input(\"Enter your gender:\")\n",
    "val3=(a,b,c,d)\n",
    "mycur.execute(q2,val3)\n",
    "mydb.commit()"
   ]
  },
  {
   "cell_type": "code",
   "execution_count": null,
   "metadata": {},
   "outputs": [],
   "source": [
    "import mysql.connector\n",
    "mydb = mysql.connector.connect(\n",
    "    host=\"localhost\",\n",
    "    user= \"root\",\n",
    "    password=\"ROOT\",\n",
    "    database=\"msit\"\n",
    ")\n",
    "mycur = mydb.cursor()\n",
    "mycur.execute(\"SELECT * From consumers\")\n",
    "#mycur.execute(\"SELECT * From consumers_students\")\n",
    "res1=mycur.fetchall()\n",
    "#res2=mycur.fetchall()\n",
    "for i in res1():\n",
    "    print(i)\n",
    "mydb.commit()"
   ]
  }
 ],
 "metadata": {
  "kernelspec": {
   "display_name": "Python 3",
   "language": "python",
   "name": "python3"
  },
  "language_info": {
   "codemirror_mode": {
    "name": "ipython",
    "version": 3
   },
   "file_extension": ".py",
   "mimetype": "text/x-python",
   "name": "python",
   "nbconvert_exporter": "python",
   "pygments_lexer": "ipython3",
   "version": "3.11.4"
  },
  "orig_nbformat": 4
 },
 "nbformat": 4,
 "nbformat_minor": 2
}
