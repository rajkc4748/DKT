{
 "cells": [
  {
   "cell_type": "code",
   "execution_count": 36,
   "metadata": {},
   "outputs": [
    {
     "name": "stdout",
     "output_type": "stream",
     "text": [
      "<class 'list'>\n",
      "<class 'tuple'>\n",
      "<class 'set'>\n",
      "<class 'dict'>\n",
      "[1, 2, 3, 4, 5, 'test', 23.36, False, (23+4j)]\n",
      "9\n",
      "2\n"
     ]
    }
   ],
   "source": [
    "class Arrays:\n",
    "    def array_types():\n",
    "        arr_1=[1,2,3,4,5,\"test\",23.36,False,23+4j]\n",
    "        arr_2=(1,2,3)\n",
    "        arr_3={\"Raj\",123,569}\n",
    "        arr_4={\n",
    "            \"name\" : \"google\",\n",
    "            \"age\":\"1000\",\n",
    "            \"test1\":\"test2\",\n",
    "        }\n",
    "        print(type(arr_1))\n",
    "        print(type(arr_2))\n",
    "        print(type(arr_3))\n",
    "        print(type(arr_4))\n",
    "        print(arr_1)\n",
    "        print(len(arr_1))\n",
    "Arrays.array_types()\n",
    "import random \n",
    "a=random.randint(1,20)\n",
    "print(a)"
   ]
  }
 ],
 "metadata": {
  "kernelspec": {
   "display_name": "Python 3",
   "language": "python",
   "name": "python3"
  },
  "language_info": {
   "codemirror_mode": {
    "name": "ipython",
    "version": 3
   },
   "file_extension": ".py",
   "mimetype": "text/x-python",
   "name": "python",
   "nbconvert_exporter": "python",
   "pygments_lexer": "ipython3",
   "version": "3.11.4"
  },
  "orig_nbformat": 4
 },
 "nbformat": 4,
 "nbformat_minor": 2
}
