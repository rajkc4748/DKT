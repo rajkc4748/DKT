{
 "cells": [
  {
   "cell_type": "code",
   "execution_count": 4,
   "metadata": {},
   "outputs": [
    {
     "name": "stdout",
     "output_type": "stream",
     "text": [
      "\n",
      "Final Array:  [11, 22, 33]   <class 'list'>\n",
      "Length of the Array is  3\n",
      "\n",
      "The Array is Increasing Order:  [11, 22, 33]\n",
      "\n",
      "The Array is Decreasing Order:  [33, 22, 11]\n"
     ]
    }
   ],
   "source": [
    "class Arrays:\n",
    "    def main():\n",
    "        arr_1=[]\n",
    "        n=int(input(\"Enter the number of array elements:\"))\n",
    "        for x in range(0,n):\n",
    "            y=int(input(\"Enter the Array Element:\"))\n",
    "            arr_1.append(y)\n",
    "        print(\"\\nFinal Array: \",arr_1,\" \",type(arr_1))\n",
    "        print(\"Length of the Array is\",len(arr_1))\n",
    "        arr_1.sort()\n",
    "        print(\"\\nThe Array is Increasing Order: \",arr_1)\n",
    "        arr_1.sort(reverse=True)\n",
    "        print(\"\\nThe Array is Decreasing Order: \",arr_1) \n",
    "Arrays.main()"
   ]
  }
 ],
 "metadata": {
  "kernelspec": {
   "display_name": "Python 3",
   "language": "python",
   "name": "python3"
  },
  "language_info": {
   "codemirror_mode": {
    "name": "ipython",
    "version": 3
   },
   "file_extension": ".py",
   "mimetype": "text/x-python",
   "name": "python",
   "nbconvert_exporter": "python",
   "pygments_lexer": "ipython3",
   "version": "3.11.4"
  },
  "orig_nbformat": 4
 },
 "nbformat": 4,
 "nbformat_minor": 2
}
