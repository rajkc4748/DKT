{
 "cells": [
  {
   "cell_type": "code",
   "execution_count": 3,
   "metadata": {},
   "outputs": [
    {
     "name": "stdout",
     "output_type": "stream",
     "text": [
      "test123\n",
      "test\n"
     ]
    }
   ],
   "source": [
    "import pandas as pd \n",
    "class Test:\n",
    "    def main():\n",
    "        a=\"test\"\n",
    "        print(a)\n",
    "class B(Test):\n",
    "    pass\n",
    "class C(B):\n",
    "    pass \n",
    "class D(C):\n",
    "    print(\"test123\")\n",
    "obj=D\n",
    "D.main()"
   ]
  },
  {
   "cell_type": "code",
   "execution_count": 8,
   "metadata": {},
   "outputs": [
    {
     "name": "stdout",
     "output_type": "stream",
     "text": [
      "      Province/State         Country/Region        Lat       Long        Date  \\\n",
      "0                NaN            Afghanistan  33.939110  67.709953  2020-01-22   \n",
      "1                NaN                Albania  41.153300  20.168300  2020-01-22   \n",
      "2                NaN                Algeria  28.033900   1.659600  2020-01-22   \n",
      "3                NaN                Andorra  42.506300   1.521800  2020-01-22   \n",
      "4                NaN                 Angola -11.202700  17.873900  2020-01-22   \n",
      "...              ...                    ...        ...        ...         ...   \n",
      "49063            NaN  Sao Tome and Principe   0.186400   6.613100  2020-07-27   \n",
      "49064            NaN                  Yemen  15.552727  48.516388  2020-07-27   \n",
      "49065            NaN                Comoros -11.645500  43.333300  2020-07-27   \n",
      "49066            NaN             Tajikistan  38.861000  71.276100  2020-07-27   \n",
      "49067            NaN                Lesotho -29.610000  28.233600  2020-07-27   \n",
      "\n",
      "       Confirmed  Deaths  Recovered  Active             WHO Region  \n",
      "0              0       0          0       0  Eastern Mediterranean  \n",
      "1              0       0          0       0                 Europe  \n",
      "2              0       0          0       0                 Africa  \n",
      "3              0       0          0       0                 Europe  \n",
      "4              0       0          0       0                 Africa  \n",
      "...          ...     ...        ...     ...                    ...  \n",
      "49063        865      14        734     117                 Africa  \n",
      "49064       1691     483        833     375  Eastern Mediterranean  \n",
      "49065        354       7        328      19                 Africa  \n",
      "49066       7235      60       6028    1147                 Europe  \n",
      "49067        505      12        128     365                 Africa  \n",
      "\n",
      "[49068 rows x 10 columns]\n"
     ]
    }
   ],
   "source": [
    "import pandas as pd\n",
    "import matplotlib.pyplot as plt\n",
    "df=pd.read_csv(\"covid_19_clean_complete.csv\")\n",
    "df.plot()\n",
    "plt.show()\n",
    "print(df)\n",
    "print(df.head(5))\n",
    "print(df.tail(6))"
   ]
  }
 ],
 "metadata": {
  "kernelspec": {
   "display_name": "Python 3",
   "language": "python",
   "name": "python3"
  },
  "language_info": {
   "codemirror_mode": {
    "name": "ipython",
    "version": 3
   },
   "file_extension": ".py",
   "mimetype": "text/x-python",
   "name": "python",
   "nbconvert_exporter": "python",
   "pygments_lexer": "ipython3",
   "version": "3.11.4"
  },
  "orig_nbformat": 4
 },
 "nbformat": 4,
 "nbformat_minor": 2
}
