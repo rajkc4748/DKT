{
 "cells": [
  {
   "cell_type": "code",
   "execution_count": 3,
   "metadata": {},
   "outputs": [
    {
     "name": "stdout",
     "output_type": "stream",
     "text": [
      "Enter the elements rowwise:\n",
      "Original matrix\n",
      "1 2 \n",
      "3 4 \n",
      "Transposed matrix\n",
      "1 3 \n",
      "2 4 \n"
     ]
    }
   ],
   "source": [
    "R = int(input(\"Enter the number of rows:\"))\n",
    "C = int(input(\"Enter the number of columns:\"))\n",
    "matrix = []\n",
    "print(\"Enter the elements rowwise:\")\n",
    "for i in range(R):\n",
    "    a =[]\n",
    "    for j in range (C):\n",
    "        a.append(int(input()))\n",
    "    matrix.append(a)\n",
    "print(\"Original matrix\")\n",
    "for i in range(R):\n",
    "    for j in range(C):\n",
    "        print(matrix[i][j], end = \" \")\n",
    "    print()\n",
    "print(\"Transposed matrix\")\n",
    "for i in range(R):\n",
    "    for j in range(C):\n",
    "        print(matrix[j][i], end = \" \")\n",
    "    print()    \n",
    "        \n",
    "    "
   ]
  }
 ],
 "metadata": {
  "kernelspec": {
   "display_name": "Python 3",
   "language": "python",
   "name": "python3"
  },
  "language_info": {
   "codemirror_mode": {
    "name": "ipython",
    "version": 3
   },
   "file_extension": ".py",
   "mimetype": "text/x-python",
   "name": "python",
   "nbconvert_exporter": "python",
   "pygments_lexer": "ipython3",
   "version": "3.11.4"
  },
  "orig_nbformat": 4
 },
 "nbformat": 4,
 "nbformat_minor": 2
}
