{
 "cells": [
  {
   "cell_type": "code",
   "execution_count": null,
   "metadata": {},
   "outputs": [],
   "source": [
    "import numpy as np\n",
    "import matplotlib.pyplot as plt\n",
    "class Graph:\n",
    "    def RandomArrayGraph():\n",
    "        x_axis = np.random.randint(10,90,12)\n",
    "        y_axis= np.random.randint(50,120,12)\n",
    "        # x_axis-np.array_split(x_axis,2)\n",
    "        # y_axis-np.array_split(y_axis,2)\n",
    "        print(x_axis,type(x_axis),len(x_axis))\n",
    "        print(y_axis,type(y_axis),len(y_axis))\n",
    "        plt.plot(x_axis,y_axis,marker=\"o\",mfc=\"red\",mec=\"red\",color=\"blue\")\n",
    "        plt.plot(x_axis,marker=\"o\",mfc=\"red\",mec=\"red\",color=\"blue\")\n",
    "        plt.plot(y_axis,marker=\"o\",mfc=\"red\",mec=\"red\",color=\"blue\")\n",
    "Graph.RandomArrayGraph()"
   ]
  }
 ],
 "metadata": {
  "kernelspec": {
   "display_name": "Python 3",
   "language": "python",
   "name": "python3"
  },
  "language_info": {
   "codemirror_mode": {
    "name": "ipython",
    "version": 3
   },
   "file_extension": ".py",
   "mimetype": "text/x-python",
   "name": "python",
   "nbconvert_exporter": "python",
   "pygments_lexer": "ipython3",
   "version": "3.11.4"
  },
  "orig_nbformat": 4
 },
 "nbformat": 4,
 "nbformat_minor": 2
}
