{
 "cells": [
  {
   "cell_type": "code",
   "execution_count": 2,
   "metadata": {},
   "outputs": [
    {
     "name": "stdout",
     "output_type": "stream",
     "text": [
      "     Name  Roll\n",
      "0     Raj     1\n",
      "1  Raghav     2\n",
      "2   Ranit     3\n"
     ]
    }
   ],
   "source": [
    "import pandas as pd \n",
    "import numpy as np \n",
    "class Test:\n",
    "    def main():\n",
    "        abc={\n",
    "            \"Name\":[\"Raj\",\"Raghav\",\"Ranit\"],\n",
    "             \"Roll\":[1,2,3]\n",
    "             }\n",
    "        d=pd.DataFrame(abc)\n",
    "        print(d)\n",
    "Test.main()\n",
    "\n",
    "\n",
    "        "
   ]
  }
 ],
 "metadata": {
  "kernelspec": {
   "display_name": "Python 3",
   "language": "python",
   "name": "python3"
  },
  "language_info": {
   "codemirror_mode": {
    "name": "ipython",
    "version": 3
   },
   "file_extension": ".py",
   "mimetype": "text/x-python",
   "name": "python",
   "nbconvert_exporter": "python",
   "pygments_lexer": "ipython3",
   "version": "3.11.4"
  },
  "orig_nbformat": 4
 },
 "nbformat": 4,
 "nbformat_minor": 2
}
