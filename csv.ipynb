{
 "cells": [
  {
   "cell_type": "code",
   "execution_count": 3,
   "metadata": {},
   "outputs": [
    {
     "name": "stdout",
     "output_type": "stream",
     "text": [
      "   S.no.  Fruits  Colour\n",
      "0      1   Apple     Red\n",
      "1      2  Banana  Yellow\n",
      "2      3  Grapes   Green\n",
      "3      4  Orange  Orange\n",
      "\n",
      "\n",
      "Dataframe is successfully converted to csv file.\n"
     ]
    }
   ],
   "source": [
    "import pandas as pd \n",
    "import numpy as np \n",
    "class Test:\n",
    "    def main():\n",
    "        dict={\n",
    "            \"S.no.\":[1,2,3,4],\n",
    "             \"Fruits\":[\"Apple\",\"Banana\",\"Grapes\",\"Orange\"],\n",
    "             \"Colour\":[\"Red\",\"Yellow\",\"Green\",\"Orange\"]\n",
    "             }\n",
    "        df=pd.DataFrame(dict)\n",
    "        print(df)\n",
    "        df.to_csv(\"Fruits.csv\")\n",
    "        print(\"\\n\")\n",
    "        print(\"Dataframe is successfully converted to csv file.\")\n",
    "Test.main()"
   ]
  }
 ],
 "metadata": {
  "kernelspec": {
   "display_name": "Python 3",
   "language": "python",
   "name": "python3"
  },
  "language_info": {
   "codemirror_mode": {
    "name": "ipython",
    "version": 3
   },
   "file_extension": ".py",
   "mimetype": "text/x-python",
   "name": "python",
   "nbconvert_exporter": "python",
   "pygments_lexer": "ipython3",
   "version": "3.11.4"
  },
  "orig_nbformat": 4
 },
 "nbformat": 4,
 "nbformat_minor": 2
}
