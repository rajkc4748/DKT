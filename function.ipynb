{
 "cells": [
  {
   "cell_type": "code",
   "execution_count": 1,
   "metadata": {},
   "outputs": [
    {
     "name": "stdout",
     "output_type": "stream",
     "text": [
      "google\n"
     ]
    }
   ],
   "source": [
    "def main():\n",
    "    def test_1():\n",
    "        def test_2():\n",
    "            def test_3():\n",
    "                print(\"google\")\n",
    "            test_3()\n",
    "        test_2()\n",
    "    test_1()\n",
    "main()\n",
    "\n",
    "\n",
    "\n",
    "# class Test:\n",
    "#     def main():\n",
    "#         print(\"Hello world\")\n",
    "#     def main_2():\n",
    "#         print(\"python\")\n",
    "# Test.main() #1\n",
    "# obj=Test  #2\n",
    "# obj.main()\n",
    "# obj.main_2()"
   ]
  }
 ],
 "metadata": {
  "kernelspec": {
   "display_name": "Python 3",
   "language": "python",
   "name": "python3"
  },
  "language_info": {
   "codemirror_mode": {
    "name": "ipython",
    "version": 3
   },
   "file_extension": ".py",
   "mimetype": "text/x-python",
   "name": "python",
   "nbconvert_exporter": "python",
   "pygments_lexer": "ipython3",
   "version": "3.11.4"
  },
  "orig_nbformat": 4
 },
 "nbformat": 4,
 "nbformat_minor": 2
}
