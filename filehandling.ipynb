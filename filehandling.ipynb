{
 "cells": [
  {
   "cell_type": "code",
   "execution_count": 1,
   "metadata": {},
   "outputs": [
    {
     "name": "stdout",
     "output_type": "stream",
     "text": [
      "abc \n",
      "File created successfully\n",
      "\n",
      "\t\t-----Reading File Contents-----\n",
      "\n",
      "\n",
      "raj\n"
     ]
    },
    {
     "ename": "FileNotFoundError",
     "evalue": "[WinError 2] The system cannot find the file specified: 'raj'",
     "output_type": "error",
     "traceback": [
      "\u001b[1;31m---------------------------------------------------------------------------\u001b[0m",
      "\u001b[1;31mFileNotFoundError\u001b[0m                         Traceback (most recent call last)",
      "Cell \u001b[1;32mIn[1], line 30\u001b[0m\n\u001b[0;32m     28\u001b[0m         \u001b[39mprint\u001b[39m(\u001b[39m\"\u001b[39m\u001b[39mFile deleted successfully\u001b[39m\u001b[39m\"\u001b[39m)\n\u001b[0;32m     29\u001b[0m FileHandling\u001b[39m.\u001b[39mmain()\n\u001b[1;32m---> 30\u001b[0m FileHandling\u001b[39m.\u001b[39;49mFileDelete()\n",
      "Cell \u001b[1;32mIn[1], line 27\u001b[0m, in \u001b[0;36mFileHandling.FileDelete\u001b[1;34m()\u001b[0m\n\u001b[0;32m     25\u001b[0m \u001b[39mdef\u001b[39;00m \u001b[39mFileDelete\u001b[39m():\n\u001b[0;32m     26\u001b[0m     xyz\u001b[39m=\u001b[39m\u001b[39minput\u001b[39m(\u001b[39m\"\u001b[39m\u001b[39mEnter the file name to delete -> \u001b[39m\u001b[39m\"\u001b[39m)\n\u001b[1;32m---> 27\u001b[0m     a\u001b[39m=\u001b[39mos\u001b[39m.\u001b[39;49mremove(xyz)\n\u001b[0;32m     28\u001b[0m     \u001b[39mprint\u001b[39m(\u001b[39m\"\u001b[39m\u001b[39mFile deleted successfully\u001b[39m\u001b[39m\"\u001b[39m)\n",
      "\u001b[1;31mFileNotFoundError\u001b[0m: [WinError 2] The system cannot find the file specified: 'raj'"
     ]
    }
   ],
   "source": [
    "\n",
    "# class FileRead:\n",
    "#     def main():\n",
    "#         a=open(\"sample.txt\",\"r\")\n",
    "#         print(a.read())\n",
    "#     def main_2():\n",
    "#         b=open(\"text.txt\",\"w\")\n",
    "#         b.write(\"Google\")\n",
    "#         print(\"File Created Successfully\")\n",
    "#         b.close()\n",
    "# FileRead.main()\n",
    "# FileRead.main_2()\n",
    "import os\n",
    "class FileHandling:\n",
    "    def main():\n",
    "        x=str(input(\"Enter a file name: \"))\n",
    "        y=str(input(\"Enter a text in file: \"))\n",
    "        b=open(x,\"w\")\n",
    "        b.write(y)\n",
    "        b.close()\n",
    "        print(x,\"\\nFile created successfully\")\n",
    "        print(\"\\n\\t\\t-----Reading File Contents-----\")\n",
    "        z=open(x,\"r\")\n",
    "        print(\"\\n\")\n",
    "        print(z.read())\n",
    "    def FileDelete():\n",
    "        xyz=input(\"Enter the file name to delete -> \")\n",
    "        a=os.remove(xyz)\n",
    "        print(\"File deleted successfully\")\n",
    "FileHandling.main()\n",
    "FileHandling.FileDelete()"
   ]
  }
 ],
 "metadata": {
  "kernelspec": {
   "display_name": "Python 3",
   "language": "python",
   "name": "python3"
  },
  "language_info": {
   "codemirror_mode": {
    "name": "ipython",
    "version": 3
   },
   "file_extension": ".py",
   "mimetype": "text/x-python",
   "name": "python",
   "nbconvert_exporter": "python",
   "pygments_lexer": "ipython3",
   "version": "3.11.4"
  },
  "orig_nbformat": 4
 },
 "nbformat": 4,
 "nbformat_minor": 2
}
